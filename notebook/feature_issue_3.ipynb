{
 "cells": [
  {
   "cell_type": "code",
   "execution_count": 1,
   "id": "3aa7d93f-8f31-40d3-8c0f-06f7e0b64154",
   "metadata": {},
   "outputs": [
    {
     "name": "stdout",
     "output_type": "stream",
     "text": [
      "Now: Local env\n"
     ]
    }
   ],
   "source": [
    "import sys\n",
    "sys.path.append(\"../\")\n",
    "\n",
    "from vook_db_v7.local_config import ClientId, aff_id, sid, pid\n",
    "from vook_db_v7.config import WANT_ITEMS_YAHOO, REQ_URL_CATE\n",
    "import pandas as pd\n",
    "import requests\n",
    "import json\n",
    "import urllib"
   ]
  },
  {
   "cell_type": "code",
   "execution_count": 2,
   "id": "3266cc12-70e1-4fdc-bc2e-6917e5aa2729",
   "metadata": {},
   "outputs": [],
   "source": [
    "brand_name = \"Levi's\"\n",
    "line_name = \"501\"\n",
    "knowledge_name = \"BIG E\"\n",
    "keyword = f\"{brand_name} {line_name} {knowledge_name} 中古\""
   ]
  },
  {
   "cell_type": "code",
   "execution_count": 3,
   "id": "5c16a44a-36d8-4b63-85ad-4649e895bd52",
   "metadata": {
    "jupyter": {
     "source_hidden": true
    }
   },
   "outputs": [],
   "source": [
    "# def DataFrame_maker_yahoo(keyword, platform_id, knowledge_id, size_id):\n",
    "#     start_num = 1\n",
    "#     step = 100\n",
    "#     max_products = 1000\n",
    "\n",
    "#     params = {\n",
    "#         \"appid\": ClientId,\n",
    "#         \"output\": \"json\",\n",
    "#         \"query\": keyword,\n",
    "#         \"sort\": \"-price\",\n",
    "#         \"affiliate_id\": aff_id,\n",
    "#         \"affiliate_type\": \"vc\",\n",
    "#         \"results\": 100,  # NOTE: 100個ずつしか取得できない。\n",
    "#     }\n",
    "\n",
    "#     l_df = []\n",
    "#     for inc in range(0, max_products, step):\n",
    "#         params[\"start\"] = start_num + inc\n",
    "#         df = pd.DataFrame(columns=WANT_ITEMS_YAHOO)\n",
    "#         res = requests.get(url=REQ_URL_CATE, params=params)\n",
    "#         res_cd = res.status_code\n",
    "#         if res_cd != 200:\n",
    "#             print(\"Bad request\")\n",
    "#             break\n",
    "#         else:\n",
    "#             res = json.loads(res.text)\n",
    "#             if len(res[\"hits\"]) == 0:\n",
    "#                 print(\"If the number of returned items is 0, the loop ends.\")\n",
    "#             print(\"Get Data\")\n",
    "#             l_hit = []\n",
    "#             for h in res[\"hits\"]:\n",
    "#                 l_hit.append(\n",
    "#                     (\n",
    "#                         h[\"index\"],\n",
    "#                         h[\"name\"],\n",
    "#                         h[\"url\"],\n",
    "#                         h[\"price\"],\n",
    "#                         knowledge_id,\n",
    "#                         platform_id,\n",
    "#                         size_id,\n",
    "#                         # 現在の日付と時刻を取得 & フォーマットを指定して文字列に変換\n",
    "#                         datetime.datetime.now().strftime(\"%Y-%m-%d %H:%M:%S.%f\"),\n",
    "#                         # 現在の日付と時刻を取得 & フォーマットを指定して文字列に変換\n",
    "#                         datetime.datetime.now().strftime(\"%Y-%m-%d %H:%M:%S.%f\"),\n",
    "#                     )\n",
    "#                 )\n",
    "#             df = pd.DataFrame(l_hit, columns=WANT_ITEMS_YAHOO)\n",
    "#             l_df.append(df)\n",
    "#     if not l_df:\n",
    "#         print(\"no df\")\n",
    "#     else:\n",
    "#         return pd.concat(l_df, ignore_index=True)"
   ]
  },
  {
   "cell_type": "code",
   "execution_count": 4,
   "id": "afea4101-c548-4d55-8237-67c0b9e1262b",
   "metadata": {},
   "outputs": [
    {
     "name": "stdout",
     "output_type": "stream",
     "text": [
      "\n",
      "ClientId:dj00aiZpPXY0ZG1sbTBRT2RmeCZzPWNvbnN1bWVyc2VjcmV0Jng9MDg-\n",
      "keyword :Levi's 501 BIG E 中古\n",
      "aff_id  ://ck.jp.ap.valuecommerce.com/servlet/referral?vs=3715441&vp=890242442&vc_url=\n",
      "\n"
     ]
    }
   ],
   "source": [
    "print(f\"\"\"\n",
    "ClientId:{ClientId}\n",
    "keyword :{keyword}\n",
    "aff_id  :{aff_id}\n",
    "\"\"\")"
   ]
  },
  {
   "cell_type": "code",
   "execution_count": 11,
   "id": "f882a4ef-0044-4f92-96e9-7bb0951a3add",
   "metadata": {},
   "outputs": [],
   "source": [
    "start_num = 1\n",
    "step = 100\n",
    "max_products = 1000\n",
    "\n",
    "params = {\n",
    "    \"appid\": ClientId,\n",
    "    \"output\": \"json\",\n",
    "    \"query\": keyword,\n",
    "    \"sort\": \"-price\",\n",
    "    \"affiliate_id\": aff_id,\n",
    "    \"affiliate_type\": \"vc\",\n",
    "    \"results\": 100,  # NOTE: 100個ずつしか取得できない。\n",
    "}\n",
    "\n",
    "inc = 0\n",
    "params[\"start\"] = start_num + inc\n",
    "df = pd.DataFrame(columns=WANT_ITEMS_YAHOO)\n",
    "\n",
    "res = requests.get(url=REQ_URL_CATE, params=params)\n",
    "\n",
    "res_cd = res.status_code\n",
    "res_cd\n",
    "\n",
    "res = json.loads(res.text)\n",
    "\n",
    "# 押下してもURLがないと言われる。\n",
    "# urllib.parse.unquote(res[\"hits\"][0][\"url\"]) # decodeしてもだめ\n",
    "# # httpにしてもだめ\n",
    "# # 'https://ck.jp.ap.valuecommerce.com/servlet/referral?vs=3715441&vp=890242442&vc_url=http://store.shopping.yahoo.co.jp/cozyvintage/230217r8-m-pnt-jns-w32.html'\n",
    "\n",
    "# # 遷移したいページ\n",
    "# \"https://store.shopping.yahoo.co.jp/cozyvintage/230217r8-m-pnt-jns-w32.html\"\n",
    "\n",
    "# # Valuecommerce上では、遷移できる\n",
    "# # https://aff.valuecommerce.ne.jp/ad/selectAdLink?ad_search_condition_form%5Bkeyword%5D=&ad_search_condition_form%5BadType%5D=mylink&ad_search_condition_form%5BadOid%5D=&ad_search_condition_form%5BfacetCategoryGroup%5D=&ad_search_condition_form%5BfacetCategory%5D=&ad_search_condition_form%5Breward%5D=&ad_search_condition_form%5BfixedMin%5D=&ad_search_condition_form%5BfixedMax%5D=&ad_search_condition_form%5BrateMin%5D=&ad_search_condition_form%5BrateMax%5D=&ad_search_condition_form%5BappStatus%5D=&ad_search_condition_form%5BcampaignOids%5D=2025875&ad_search_condition_form%5BecOid%5D=&ad_search_condition_form%5BsortData%5D=score&ad_search_condition_form%5BadStatus%5D=&ad_search_condition_form%5BlimitData%5D=20\n",
    "# print(\"//ck.jp.ap.valuecommerce.com/servlet/referral?sid=3715441&pid=890242442&vc_url=https%3A%2F%2Fstore.shopping.yahoo.co.jp%2Fcozyvintage%2F230217r8-m-pnt-jns-w32.html\")\n",
    "\n",
    "# # HTTPSつけてもだめ\n",
    "# print(\"https://ck.jp.ap.valuecommerce.com/servlet/referral?sid=3715441&pid=890242442&vc_url=https%3A%2F%2Fstore.shopping.yahoo.co.jp%2Fcozyvintage%2F230217r8-m-pnt-jns-w32.html\")"
   ]
  },
  {
   "cell_type": "code",
   "execution_count": 17,
   "id": "70edd240-042f-4ca6-a615-cff637c23a61",
   "metadata": {},
   "outputs": [],
   "source": [
    "url = urllib.parse.unquote(res[\"hits\"][99][\"url\"].split(\"vc_url=\")[1])"
   ]
  },
  {
   "cell_type": "code",
   "execution_count": 18,
   "id": "1eb56524-3fe6-4778-9618-0db539815308",
   "metadata": {},
   "outputs": [
    {
     "data": {
      "text/plain": [
       "'https://store.shopping.yahoo.co.jp/ssol-shopping/2341440895282.html'"
      ]
     },
     "execution_count": 18,
     "metadata": {},
     "output_type": "execute_result"
    }
   ],
   "source": [
    "url"
   ]
  }
 ],
 "metadata": {
  "kernelspec": {
   "display_name": "Python 3 (ipykernel)",
   "language": "python",
   "name": "python3"
  },
  "language_info": {
   "codemirror_mode": {
    "name": "ipython",
    "version": 3
   },
   "file_extension": ".py",
   "mimetype": "text/x-python",
   "name": "python",
   "nbconvert_exporter": "python",
   "pygments_lexer": "ipython3",
   "version": "3.9.16"
  }
 },
 "nbformat": 4,
 "nbformat_minor": 5
}
